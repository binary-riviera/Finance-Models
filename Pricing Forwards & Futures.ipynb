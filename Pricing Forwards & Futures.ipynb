{
 "cells": [
  {
   "cell_type": "markdown",
   "metadata": {},
   "source": [
    "# Pricing Forwards & Futures"
   ]
  },
  {
   "cell_type": "markdown",
   "metadata": {},
   "source": [
    "Firstly, it'll probably be helpful for future me to define both forwards and futures. \"All About Derivatives\" defines\n",
    "them as follows:\n",
    "\n",
    "> A forward is a contract wherein a buyer agrees to purchase the underlier from the seller at a specified price on a specified future date\n",
    "\n",
    "> A futures is a standardized forward contract executed at an exchange"
   ]
  },
  {
   "cell_type": "markdown",
   "metadata": {},
   "source": [
    "Now we've defined them, what do we need to know about them to price them? We need to use and derive the following values:\n",
    "\n",
    "* *Delivery Price*: the price the long party commits to buy and the short party commits to sell.\n",
    "* *Forward/futures Price*: the delivery price for a new, zero-value forward contract.\n",
    "* *Value*: the value is a measure of how much worse or better the parties are for having entered into the agreement.\n",
    "* *Future Value (FV)*: the future value, calculated from the known value today.\n",
    "* *Present Value (PV)*: the present value, calculated from a given future value. Adjusting backwards is known as *discounting*.\n",
    "* *Spot Price (S)*: the current market price at which the asset is bought or sold, it changes over the course of the contract.\n",
    "* *Carry*: the cost of maintaining a forward position over time.\n",
    "* *Storage Cost*: a fixed cost of maintaining the underlying asset.\n",
    "* *Time Period (t)*\n",
    "* *Interest Rate (r)*"
   ]
  },
  {
   "cell_type": "markdown",
   "metadata": {},
   "source": [
    "## Forward Price Formulas\n",
    "\n",
    "### Basic Forward\n",
    "\n",
    "A basic forward is one where there is no storage cost, and generates no income. The only cost of carry is interest.  The future price, F is equal to the future value.\n",
    "\n",
    "$$F = Se^{rt}$$"
   ]
  },
  {
   "cell_type": "code",
   "execution_count": 6,
   "metadata": {},
   "outputs": [],
   "source": [
    "import math\n",
    "\n",
    "def F_basic(S, r, t):\n",
    "    return S * math.exp(r * t)"
   ]
  },
  {
   "cell_type": "markdown",
   "metadata": {},
   "source": [
    "Let's try getting F for some example values. Lets say we're buying 100 shares of a stock in 6 months. The stock price is currently $15.50. The risk-free interest rate is 2\\%. The future value is therefore:"
   ]
  },
  {
   "cell_type": "code",
   "execution_count": 7,
   "metadata": {},
   "outputs": [
    {
     "data": {
      "text/plain": [
       "1565.5777589804604"
      ]
     },
     "execution_count": 7,
     "metadata": {},
     "output_type": "execute_result"
    }
   ],
   "source": [
    "S = 1550 # in pence\n",
    "r = 0.02\n",
    "t = 0.5 # in years\n",
    "F_basic(S, r, t)"
   ]
  },
  {
   "cell_type": "markdown",
   "metadata": {},
   "source": [
    "Which is correct, so that's nice.\n",
    "\n",
    "### Forward with Storage\n",
    "\n",
    "The only difference here is that the forward price is now equal to the spot (S), *plus* the present value of storage (U). U is a fixed amount here."
   ]
  },
  {
   "cell_type": "code",
   "execution_count": 10,
   "metadata": {},
   "outputs": [],
   "source": [
    "def F_fixed_storage(S, r, t, U):\n",
    "    return (S + U) * Math.exp(r * t)"
   ]
  },
  {
   "cell_type": "markdown",
   "metadata": {},
   "source": [
    "As an example, let's say one party wants to buy 5000 barrels of oil 1 year forward. The oils spot price is `$`32 a barrel.\n",
    "The cost is `$`1.50 a barrel per quarter, payable at the beginning of each quarter. The risk free interest rate is 3\\%. First we have to calculate U:"
   ]
  },
  {
   "cell_type": "code",
   "execution_count": null,
   "metadata": {},
   "outputs": [],
   "source": [
    "cost_per_quarter = 1.50 * 5000\n",
    "def cf()"
   ]
  }
 ],
 "metadata": {
  "kernelspec": {
   "display_name": "Python 3",
   "language": "python",
   "name": "python3"
  },
  "language_info": {
   "codemirror_mode": {
    "name": "ipython",
    "version": 3
   },
   "file_extension": ".py",
   "mimetype": "text/x-python",
   "name": "python",
   "nbconvert_exporter": "python",
   "pygments_lexer": "ipython3",
   "version": "3.7.6"
  }
 },
 "nbformat": 4,
 "nbformat_minor": 4
}
