{
 "cells": [
  {
   "cell_type": "markdown",
   "metadata": {},
   "source": [
    "# Pricing Forwards & Futures"
   ]
  },
  {
   "cell_type": "markdown",
   "metadata": {},
   "source": [
    "Firstly, it'll probably be helpful for future me to define both forwards and futures. \"All About Derivatives\" defines\n",
    "them as follows:\n",
    "\n",
    "> A forward is a contract wherein a buyer agrees to purchase the underlier from the seller at a specified price on a specified future date\n",
    "\n",
    "> A futures is a standardized forward contract executed at an exchange"
   ]
  },
  {
   "cell_type": "markdown",
   "metadata": {},
   "source": [
    "Now we've defined them, what do we need to know about them to price them? We need to use and derive the following values:\n",
    "\n",
    "* *Delivery Price*: the price the long party commits to buy and the short party commits to sell.\n",
    "* *Forward/futures Price*: the delivery price for a new, zero-value forward contract.\n",
    "* *Value*: the value is a measure of how much worse or better the parties are for having entered into the agreement.\n",
    "* *Future Value (FV)*: the future value, calculated from the known value today.\n",
    "* *Present Value (PV)*: the present value, calculated from a given future value. Adjusting backwards is known as *discounting*.\n",
    "* *Spot Price*: the current market price at which the asset is bought or sold, it changes over the course of the contract.\n",
    "* *Carry*: the cost of maintaining a forward position over time.\n",
    "* *Storage Cost*: a fixed cost of maintaining the underlying asset."
   ]
  },
  {
   "cell_type": "markdown",
   "metadata": {},
   "source": [
    "## Forward Price Formulas\n",
    "\n",
    "### Basic Forward\n",
    "\n",
    "A basic forw\n"
   ]
  },
  {
   "cell_type": "code",
   "execution_count": null,
   "metadata": {},
   "outputs": [],
   "source": []
  }
 ],
 "metadata": {
  "kernelspec": {
   "display_name": "Python 3",
   "language": "python",
   "name": "python3"
  },
  "language_info": {
   "codemirror_mode": {
    "name": "ipython",
    "version": 3
   },
   "file_extension": ".py",
   "mimetype": "text/x-python",
   "name": "python",
   "nbconvert_exporter": "python",
   "pygments_lexer": "ipython3",
   "version": "3.7.6"
  }
 },
 "nbformat": 4,
 "nbformat_minor": 4
}
