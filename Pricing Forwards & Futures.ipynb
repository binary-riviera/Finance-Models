{
 "cells": [
  {
   "cell_type": "markdown",
   "metadata": {},
   "source": [
    "# Pricing Forwards & Futures"
   ]
  },
  {
   "cell_type": "markdown",
   "metadata": {},
   "source": [
    "Firstly, it'll probably be helpful for future me to define both forwards and futures. \"All About Derivatives\" defines\n",
    "them as follows:\n",
    "\n",
    "> A forward is a contract wherein a buyer agrees to purchase the underlier from the seller at a specified price on a specified future date\n",
    "\n",
    "> A futures is a standardized forward contract executed at an exchange"
   ]
  },
  {
   "cell_type": "markdown",
   "metadata": {},
   "source": [
    "Now we've defined them, what do we need to know about them to price them? We need to use and derive the following values:\n",
    "\n",
    "* *Delivery Price*: the price the long party commits to buy and the short party commits to sell.\n",
    "* *Forward/futures Price*: the delivery price for a new, zero-value forward contract.\n",
    "* *Value*: the value is a measure of how much worse or better the parties are for having entered into the agreement.\n",
    "* *Future Value (FV)*: the future value, calculated from the known value today.\n",
    "* *Present Value (PV)*: the present value, calculated from a given future value. Adjusting backwards is known as *discounting*.\n",
    "* *Spot Price (S)*: the current market price at which the asset is bought or sold, it changes over the course of the contract.\n",
    "* *Carry*: the cost of maintaining a forward position over time.\n",
    "* *Storage Cost*: a fixed cost of maintaining the underlying asset.\n",
    "* *Time Period (t)*: the period which the contract covers.\n",
    "* *Risk Free Interest Rate (r)*: the rate of return with no hypothetical loss, over time e.g. Swiss Bonds"
   ]
  },
  {
   "cell_type": "markdown",
   "metadata": {},
   "source": [
    "## Forward Price Formulas\n",
    "\n",
    "### Basic Forward\n",
    "\n",
    "A basic forward is one where there is no storage cost, and generates no income. The only cost of carry is interest.  The future price, F is equal to the future value.\n",
    "\n",
    "$$F = Se^{rt}$$"
   ]
  },
  {
   "cell_type": "code",
   "execution_count": 1,
   "metadata": {},
   "outputs": [],
   "source": [
    "import math\n",
    "\n",
    "def F_basic(S, r, t):\n",
    "    return S * math.exp(r * t)"
   ]
  },
  {
   "cell_type": "markdown",
   "metadata": {},
   "source": [
    "Let's try getting F for some example values. Lets say we're buying 100 shares of a stock in 6 months. The stock price is currently $15.50. The risk-free interest rate is 2\\%. The future value is therefore:"
   ]
  },
  {
   "cell_type": "code",
   "execution_count": 2,
   "metadata": {},
   "outputs": [
    {
     "data": {
      "text/plain": [
       "1565.5777589804604"
      ]
     },
     "execution_count": 2,
     "metadata": {},
     "output_type": "execute_result"
    }
   ],
   "source": [
    "S = 1550 # in pence\n",
    "r = 0.02\n",
    "t = 0.5 # in years\n",
    "F_basic(S, r, t)"
   ]
  },
  {
   "cell_type": "markdown",
   "metadata": {},
   "source": [
    "Which is correct, so that's nice.\n",
    "\n",
    "### Forward with Storage\n",
    "\n",
    "The only difference here is that the forward price is now equal to the spot (S), *plus* the present value of storage (U). U is a fixed amount here."
   ]
  },
  {
   "cell_type": "code",
   "execution_count": 3,
   "metadata": {},
   "outputs": [],
   "source": [
    "def F_fixed_storage(S, r, t, U):\n",
    "    return (S + U) * math.exp(r * t)"
   ]
  },
  {
   "cell_type": "markdown",
   "metadata": {},
   "source": [
    "As an example, let's say one party wants to buy 5000 barrels of oil 1 year forward. The oils spot price is `$`32 a barrel.\n",
    "The cost is `$`1.50 a barrel per quarter, payable at the beginning of each quarter. The risk free interest rate is 3\\%. First we have to calculate U. This isn't as simple as it seems (to me). This is because we have to take the risk free interest rate into account."
   ]
  },
  {
   "cell_type": "code",
   "execution_count": 4,
   "metadata": {},
   "outputs": [
    {
     "data": {
      "text/plain": [
       "29665.43423711653"
      ]
     },
     "execution_count": 4,
     "metadata": {},
     "output_type": "execute_result"
    }
   ],
   "source": [
    "cpq = 1.50 * 5000\n",
    "r = 0.03\n",
    "pv_s = cpq * (1 + math.exp(-r * 0.25) + math.exp(-r * 0.5) + math.exp(-r * 0.75))\n",
    "# notice the present value of the storage is cheaper over time, due to interest\n",
    "pv_s"
   ]
  },
  {
   "cell_type": "markdown",
   "metadata": {},
   "source": [
    "Now to calculate the future price (the fair market delivery price):"
   ]
  },
  {
   "cell_type": "code",
   "execution_count": 5,
   "metadata": {},
   "outputs": [
    {
     "data": {
      "text/plain": [
       "195441.60664389934"
      ]
     },
     "execution_count": 5,
     "metadata": {},
     "output_type": "execute_result"
    }
   ],
   "source": [
    "F_fixed_storage(S=32*5000, r=0.03, t=1, U=pv_s)"
   ]
  },
  {
   "cell_type": "markdown",
   "metadata": {},
   "source": [
    "What about when the storage price *is* proportional to the spot price? We already take into account one thing like this, the interest rate. This makes working it out simple:"
   ]
  },
  {
   "cell_type": "code",
   "execution_count": 6,
   "metadata": {},
   "outputs": [],
   "source": [
    "def F_prop_storage(S, r, t, u):\n",
    "    return S * math.exp((r + u) * t)"
   ]
  },
  {
   "cell_type": "markdown",
   "metadata": {},
   "source": [
    "Let's say we want to buy 1000 bushels of apples from an apple growe in 3 months. Stored apples lose 2% of their value due to spoilage. Apples sell for $6 a bushel. The risk free interest rate is 4%."
   ]
  },
  {
   "cell_type": "code",
   "execution_count": 7,
   "metadata": {},
   "outputs": [
    {
     "data": {
      "text/plain": [
       "6090.678387694314"
      ]
     },
     "execution_count": 7,
     "metadata": {},
     "output_type": "execute_result"
    }
   ],
   "source": [
    "F_prop_storage(S=1000*6, r=0.04, t=0.25, u=0.02)"
   ]
  },
  {
   "cell_type": "markdown",
   "metadata": {},
   "source": [
    "### Forward with Income\n",
    "\n",
    "This is the inverse of storage, instead of a cost per month, there is instead a benefit. This means we can use our existing formulas, with values being negatives. \n",
    "\n",
    "As an example with a fixed income, let's say we want to buy 400 shares of stock in 1 year. The stock is currently trading at `$`36 The company pays a quarterly dividend, expected to be `$`0.25 per share. The risk free interest rate is 2%."
   ]
  },
  {
   "cell_type": "code",
   "execution_count": 13,
   "metadata": {},
   "outputs": [
    {
     "data": {
      "text/plain": [
       "14287.881721129355"
      ]
     },
     "execution_count": 13,
     "metadata": {},
     "output_type": "execute_result"
    }
   ],
   "source": [
    "div_val = (0.25 * 400) * (math.exp(-0.02 * 0.25) + math.exp(-0.02 * 0.5) + math.exp(-0.02 * 0.75) + math.exp(-0.02))\n",
    "F_fixed_storage(S=400*36, r=0.02, t=1, U=-div_val)"
   ]
  },
  {
   "cell_type": "markdown",
   "metadata": {},
   "source": [
    "Sometimes the income will be proportional to the spot price. As an example let's say we agree to buy 200 shares of a stock index in 1 year. The index is trading at $54 a share and it pays an annual dividend equal to 0.5% of its share price. The risk free interest rate is 3%."
   ]
  },
  {
   "cell_type": "code",
   "execution_count": 14,
   "metadata": {},
   "outputs": [
    {
     "data": {
      "text/plain": [
       "11073.403301663831"
      ]
     },
     "execution_count": 14,
     "metadata": {},
     "output_type": "execute_result"
    }
   ],
   "source": [
    "F_prop_storage(S=200*54, r=0.03, t=1, u=-0.005)"
   ]
  },
  {
   "cell_type": "markdown",
   "metadata": {},
   "source": [
    "### Forward Price of Currency\n",
    "\n",
    "When the underlier is a foreign currency we have to consider not only the domestic interest rate but also the risk free foreign rate. The risk free foreign rate represents income to the short party and is just proportional income.\n",
    "\n",
    "As an example, let's say we want to buy 5000 krinkets from a currency dealer in 9 months. Krinkets are currently trading for $0.35. The risk free interest rate in Krinketville is 2% and the risk free interest rate in the US is 6%. "
   ]
  },
  {
   "cell_type": "code",
   "execution_count": 15,
   "metadata": {},
   "outputs": [
    {
     "data": {
      "text/plain": [
       "1803.2954344186546"
      ]
     },
     "execution_count": 15,
     "metadata": {},
     "output_type": "execute_result"
    }
   ],
   "source": [
    "F_prop_storage(S=5000*0.35, r=0.06, t=0.75, u=-0.02)"
   ]
  },
  {
   "cell_type": "markdown",
   "metadata": {},
   "source": [
    "## Valuing an Existing Forward or Futures Position"
   ]
  },
  {
   "cell_type": "markdown",
   "metadata": {},
   "source": [
    "### Forward Contract Value\n",
    "\n",
    "The current value of an existing forward contract is the difference between"
   ]
  }
 ],
 "metadata": {
  "kernelspec": {
   "display_name": "Python 3",
   "language": "python",
   "name": "python3"
  },
  "language_info": {
   "codemirror_mode": {
    "name": "ipython",
    "version": 3
   },
   "file_extension": ".py",
   "mimetype": "text/x-python",
   "name": "python",
   "nbconvert_exporter": "python",
   "pygments_lexer": "ipython3",
   "version": "3.7.6"
  }
 },
 "nbformat": 4,
 "nbformat_minor": 4
}
