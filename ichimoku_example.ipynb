{
 "cells": [
  {
   "cell_type": "markdown",
   "metadata": {},
   "source": [
    "# Ichimoku Trading Strategy\n",
    "\n",
    "Taken from https://www.pythonforfinance.net/2019/06/26/ichimoku-trading-strategy-with-python/"
   ]
  },
  {
   "cell_type": "code",
   "execution_count": 7,
   "metadata": {},
   "outputs": [],
   "source": [
    "import pandas as pd\n",
    "from pandas_datareader import data, wb\n",
    "import matplotlib as mpl\n",
    "from mplfinance.original_flavor import candlestick_ohlc # we're using the old api\n",
    "import matplotlib.dates as dates\n",
    "import datetime \n",
    "import matplotlib.pyplot as plt\n",
    "%matplotlib inline"
   ]
  },
  {
   "cell_type": "code",
   "execution_count": 6,
   "metadata": {},
   "outputs": [],
   "source": [
    "start = datetime.datetime(2017, 1, 1)\n",
    "end = datetime.datetime(2019, 1, 27)\n",
    "d = data.DataReader('F', 'yahoo', start, end)"
   ]
  },
  {
   "cell_type": "code",
   "execution_count": 8,
   "metadata": {},
   "outputs": [],
   "source": [
    "# convert dates to integer values for use with matplotlib candlesticks which don't accept datetimes\n",
    "d['Dates'] = dates.date2num(d.index)"
   ]
  },
  {
   "cell_type": "markdown",
   "metadata": {},
   "source": [
    "Tenkan-Sen line, also called the Conversion Line, represents the midpoint of the last 9 candlesticks. It’s calculated by adding the highest high and the lowest low over the past nine periods and then dividing the result by two."
   ]
  },
  {
   "cell_type": "code",
   "execution_count": 9,
   "metadata": {},
   "outputs": [],
   "source": [
    "# (9 period high + 9 period low) / 2\n",
    "nine_period_high = d['High'].rolling(window=9).max()\n",
    "nine_period_low = d['Low'].rolling(window=9).min()\n",
    "d['tenkan_sen'] = (nine_period_high + nine_period_low) / 2"
   ]
  },
  {
   "cell_type": "markdown",
   "metadata": {},
   "source": [
    "Kijun-Sen line, also called the Base Line, represents the midpoint of the last 26 candlesticks. It’s calculated in a similar fashion to the Tenkan-Sen line however we use the last 26 candlesticks as mentioned rather than the last 9 – just add the highest high and the lowest low over the past 26 periods and then divide the result by two."
   ]
  },
  {
   "cell_type": "code",
   "execution_count": 11,
   "metadata": {},
   "outputs": [],
   "source": [
    "# (26 period high + 26 period low) / 2\n",
    "twentysix_period_high = d['High'].rolling(window=26).max()\n",
    "twentysix_period_low = d['Low'].rolling(window=26).min()\n",
    "d['kijun_sen'] = (twentysix_period_high + twentysix_period_low) / 2"
   ]
  },
  {
   "cell_type": "markdown",
   "metadata": {},
   "source": [
    "Chiou Span, also called the Lagging Span, lags behind the price (as the name suggests). The Lagging Span is plotted 26 periods back."
   ]
  },
  {
   "cell_type": "code",
   "execution_count": null,
   "metadata": {},
   "outputs": [],
   "source": []
  },
  {
   "cell_type": "markdown",
   "metadata": {},
   "source": [
    "Senkou Span A, also called the Leading Span A, represents one of the two Cloud boundaries and it’s the midpoint between the Conversion Line (Tenkan-Sen) and the Base Line (Kijun-Sen). It’s calculated by adding the Tenkan-Sen line and the Kijun-Sen line together and dividng by 2. This value is plotted 26 periods into the future and it’s the faster Cloud boundary."
   ]
  },
  {
   "cell_type": "code",
   "execution_count": 12,
   "metadata": {},
   "outputs": [],
   "source": [
    "# (conversion line + base line) / 2\n",
    "d['senkou_span_a'] = ((d['tenkan_sen'] + d['kijun_sen']) / 2).shift(26)"
   ]
  },
  {
   "cell_type": "markdown",
   "metadata": {},
   "source": [
    "Senkou Span B, or the Leading Span B, represents the second Cloud boundaries and it’s the midpoint of the last 52 price bars. Add the highest high and the lowest low over the past 52 periods and then divide the result by two. This value is plotted 26 periods into the future and it’s the slower Cloud boundary. "
   ]
  },
  {
   "cell_type": "code",
   "execution_count": 13,
   "metadata": {},
   "outputs": [],
   "source": [
    "# (52-period high + 52-period low)/2))\n",
    "period52_high = d['High'].rolling(window=52).max()\n",
    "period52_low = d['Low'].rolling(window=52).min()\n",
    "d['senkou_span_b'] = ((period52_high + period52_low) / 2).shift(26)"
   ]
  },
  {
   "cell_type": "markdown",
   "metadata": {},
   "source": [
    "There is an optional sixth element and that is the Chikou Span, representing the closing price and is plotted 26 days back. This line is used to show possible areas of support and resistance."
   ]
  },
  {
   "cell_type": "code",
   "execution_count": 14,
   "metadata": {},
   "outputs": [],
   "source": [
    "d['chikou_span'] = d['Close'].shift(-26)"
   ]
  },
  {
   "cell_type": "markdown",
   "metadata": {},
   "source": [
    "Create a quick plot of the results:"
   ]
  },
  {
   "cell_type": "code",
   "execution_count": 17,
   "metadata": {},
   "outputs": [
    {
     "ename": "SyntaxError",
     "evalue": "invalid syntax (<ipython-input-17-79d9ea0e0551>, line 1)",
     "output_type": "error",
     "traceback": [
      "\u001b[1;36m  File \u001b[1;32m\"<ipython-input-17-79d9ea0e0551>\"\u001b[1;36m, line \u001b[1;32m1\u001b[0m\n\u001b[1;33m    d.drop(['Dates', 'Volume'], axis=1).plot(figsize=15,8))\u001b[0m\n\u001b[1;37m                                                          ^\u001b[0m\n\u001b[1;31mSyntaxError\u001b[0m\u001b[1;31m:\u001b[0m invalid syntax\n"
     ]
    }
   ],
   "source": [
    "d.drop(['Dates', 'Volume'], axis=1).plot(figsize=15,8))\n",
    "plt.show()"
   ]
  },
  {
   "cell_type": "code",
   "execution_count": null,
   "metadata": {},
   "outputs": [],
   "source": []
  }
 ],
 "metadata": {
  "kernelspec": {
   "display_name": "Python 3",
   "language": "python",
   "name": "python3"
  },
  "language_info": {
   "codemirror_mode": {
    "name": "ipython",
    "version": 3
   },
   "file_extension": ".py",
   "mimetype": "text/x-python",
   "name": "python",
   "nbconvert_exporter": "python",
   "pygments_lexer": "ipython3",
   "version": "3.7.6"
  }
 },
 "nbformat": 4,
 "nbformat_minor": 4
}
