{
 "cells": [
  {
   "cell_type": "code",
   "execution_count": 4,
   "metadata": {},
   "outputs": [
    {
     "name": "stderr",
     "output_type": "stream",
     "text": [
      "C:\\Users\\Daniel\\anaconda3\\lib\\site-packages\\pandas_datareader\\compat\\__init__.py:7: FutureWarning: pandas.util.testing is deprecated. Use the functions in the public API at pandas.testing instead.\n",
      "  from pandas.util.testing import assert_frame_equal\n"
     ]
    }
   ],
   "source": [
    "import pandas as pd\n",
    "import pandas_datareader.data as web\n",
    "import quandl\n",
    "f = open('quandlsecret.txt', 'r')\n",
    "quandl.ApiConfig.api_key = f.readline()\n",
    "f.close()"
   ]
  },
  {
   "cell_type": "code",
   "execution_count": 5,
   "metadata": {},
   "outputs": [
    {
     "data": {
      "text/html": [
       "<div>\n",
       "<style scoped>\n",
       "    .dataframe tbody tr th:only-of-type {\n",
       "        vertical-align: middle;\n",
       "    }\n",
       "\n",
       "    .dataframe tbody tr th {\n",
       "        vertical-align: top;\n",
       "    }\n",
       "\n",
       "    .dataframe thead th {\n",
       "        text-align: right;\n",
       "    }\n",
       "</style>\n",
       "<table border=\"1\" class=\"dataframe\">\n",
       "  <thead>\n",
       "    <tr style=\"text-align: right;\">\n",
       "      <th></th>\n",
       "      <th>Open</th>\n",
       "      <th>High</th>\n",
       "      <th>Low</th>\n",
       "      <th>Close</th>\n",
       "      <th>Volume (BTC)</th>\n",
       "      <th>Volume (Currency)</th>\n",
       "      <th>Weighted Price</th>\n",
       "    </tr>\n",
       "    <tr>\n",
       "      <th>Date</th>\n",
       "      <th></th>\n",
       "      <th></th>\n",
       "      <th></th>\n",
       "      <th></th>\n",
       "      <th></th>\n",
       "      <th></th>\n",
       "      <th></th>\n",
       "    </tr>\n",
       "  </thead>\n",
       "  <tbody>\n",
       "    <tr>\n",
       "      <th>2019-01-03</th>\n",
       "      <td>3890.80</td>\n",
       "      <td>3893.80</td>\n",
       "      <td>3758.07</td>\n",
       "      <td>3787.57</td>\n",
       "      <td>8840.254922</td>\n",
       "      <td>3.382343e+07</td>\n",
       "      <td>3826.069230</td>\n",
       "    </tr>\n",
       "    <tr>\n",
       "      <th>2019-01-04</th>\n",
       "      <td>3787.57</td>\n",
       "      <td>3849.00</td>\n",
       "      <td>3730.00</td>\n",
       "      <td>3820.82</td>\n",
       "      <td>8950.110359</td>\n",
       "      <td>3.387391e+07</td>\n",
       "      <td>3784.747665</td>\n",
       "    </tr>\n",
       "    <tr>\n",
       "      <th>2019-01-05</th>\n",
       "      <td>3820.82</td>\n",
       "      <td>3874.12</td>\n",
       "      <td>3775.00</td>\n",
       "      <td>3798.62</td>\n",
       "      <td>6057.934757</td>\n",
       "      <td>2.322994e+07</td>\n",
       "      <td>3834.629826</td>\n",
       "    </tr>\n",
       "    <tr>\n",
       "      <th>2019-01-06</th>\n",
       "      <td>3799.99</td>\n",
       "      <td>4088.00</td>\n",
       "      <td>3756.01</td>\n",
       "      <td>4040.99</td>\n",
       "      <td>9506.268897</td>\n",
       "      <td>3.763788e+07</td>\n",
       "      <td>3959.269123</td>\n",
       "    </tr>\n",
       "    <tr>\n",
       "      <th>2019-01-07</th>\n",
       "      <td>4040.98</td>\n",
       "      <td>4070.00</td>\n",
       "      <td>3968.79</td>\n",
       "      <td>4005.99</td>\n",
       "      <td>8876.737621</td>\n",
       "      <td>3.569372e+07</td>\n",
       "      <td>4021.040654</td>\n",
       "    </tr>\n",
       "  </tbody>\n",
       "</table>\n",
       "</div>"
      ],
      "text/plain": [
       "               Open     High      Low    Close  Volume (BTC)  \\\n",
       "Date                                                           \n",
       "2019-01-03  3890.80  3893.80  3758.07  3787.57   8840.254922   \n",
       "2019-01-04  3787.57  3849.00  3730.00  3820.82   8950.110359   \n",
       "2019-01-05  3820.82  3874.12  3775.00  3798.62   6057.934757   \n",
       "2019-01-06  3799.99  4088.00  3756.01  4040.99   9506.268897   \n",
       "2019-01-07  4040.98  4070.00  3968.79  4005.99   8876.737621   \n",
       "\n",
       "            Volume (Currency)  Weighted Price  \n",
       "Date                                           \n",
       "2019-01-03       3.382343e+07     3826.069230  \n",
       "2019-01-04       3.387391e+07     3784.747665  \n",
       "2019-01-05       2.322994e+07     3834.629826  \n",
       "2019-01-06       3.763788e+07     3959.269123  \n",
       "2019-01-07       3.569372e+07     4021.040654  "
      ]
     },
     "execution_count": 5,
     "metadata": {},
     "output_type": "execute_result"
    }
   ],
   "source": [
    "btcprices = quandl.get('BCHARTS/COINBASEUSD', collapse='daily')\n",
    "btcprices.tail()"
   ]
  },
  {
   "cell_type": "markdown",
   "metadata": {},
   "source": [
    "We'll go from 2015-05-11 since that's when we start getting consecutive days. We'll end on 2019-01-07. Now we need to get the S&P500 historical data for the same period."
   ]
  },
  {
   "cell_type": "code",
   "execution_count": null,
   "metadata": {},
   "outputs": [],
   "source": []
  }
 ],
 "metadata": {
  "kernelspec": {
   "display_name": "Python 3",
   "language": "python",
   "name": "python3"
  },
  "language_info": {
   "codemirror_mode": {
    "name": "ipython",
    "version": 3
   },
   "file_extension": ".py",
   "mimetype": "text/x-python",
   "name": "python",
   "nbconvert_exporter": "python",
   "pygments_lexer": "ipython3",
   "version": "3.7.6"
  }
 },
 "nbformat": 4,
 "nbformat_minor": 4
}
