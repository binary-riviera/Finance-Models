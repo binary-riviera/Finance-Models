{
 "cells": [
  {
   "cell_type": "code",
   "execution_count": 1,
   "metadata": {},
   "outputs": [
    {
     "name": "stderr",
     "output_type": "stream",
     "text": [
      "C:\\Users\\Daniel\\anaconda3\\lib\\site-packages\\pandas_datareader\\compat\\__init__.py:7: FutureWarning: pandas.util.testing is deprecated. Use the functions in the public API at pandas.testing instead.\n",
      "  from pandas.util.testing import assert_frame_equal\n"
     ]
    }
   ],
   "source": [
    "import pandas as pd\n",
    "import pandas_datareader.data as web\n",
    "import datetime as dt\n",
    "import quandl\n",
    "f = open('quandlsecret.txt', 'r')\n",
    "quandl.ApiConfig.api_key = f.readline()\n",
    "f.close()"
   ]
  },
  {
   "cell_type": "code",
   "execution_count": 2,
   "metadata": {},
   "outputs": [
    {
     "data": {
      "text/html": [
       "<div>\n",
       "<style scoped>\n",
       "    .dataframe tbody tr th:only-of-type {\n",
       "        vertical-align: middle;\n",
       "    }\n",
       "\n",
       "    .dataframe tbody tr th {\n",
       "        vertical-align: top;\n",
       "    }\n",
       "\n",
       "    .dataframe thead th {\n",
       "        text-align: right;\n",
       "    }\n",
       "</style>\n",
       "<table border=\"1\" class=\"dataframe\">\n",
       "  <thead>\n",
       "    <tr style=\"text-align: right;\">\n",
       "      <th></th>\n",
       "      <th>Open</th>\n",
       "      <th>High</th>\n",
       "      <th>Low</th>\n",
       "      <th>Close</th>\n",
       "      <th>Volume (BTC)</th>\n",
       "      <th>Volume (Currency)</th>\n",
       "      <th>Weighted Price</th>\n",
       "    </tr>\n",
       "    <tr>\n",
       "      <th>Date</th>\n",
       "      <th></th>\n",
       "      <th></th>\n",
       "      <th></th>\n",
       "      <th></th>\n",
       "      <th></th>\n",
       "      <th></th>\n",
       "      <th></th>\n",
       "    </tr>\n",
       "  </thead>\n",
       "  <tbody>\n",
       "    <tr>\n",
       "      <th>2015-02-04</th>\n",
       "      <td>228.77</td>\n",
       "      <td>230.25</td>\n",
       "      <td>221.85</td>\n",
       "      <td>227.11</td>\n",
       "      <td>3344.120783</td>\n",
       "      <td>7.578076e+05</td>\n",
       "      <td>226.608934</td>\n",
       "    </tr>\n",
       "    <tr>\n",
       "      <th>2015-05-11</th>\n",
       "      <td>241.59</td>\n",
       "      <td>245.49</td>\n",
       "      <td>239.50</td>\n",
       "      <td>242.86</td>\n",
       "      <td>6176.481242</td>\n",
       "      <td>1.498052e+06</td>\n",
       "      <td>242.541273</td>\n",
       "    </tr>\n",
       "    <tr>\n",
       "      <th>2015-05-12</th>\n",
       "      <td>242.74</td>\n",
       "      <td>243.40</td>\n",
       "      <td>240.37</td>\n",
       "      <td>242.03</td>\n",
       "      <td>6322.571412</td>\n",
       "      <td>1.531046e+06</td>\n",
       "      <td>242.155569</td>\n",
       "    </tr>\n",
       "    <tr>\n",
       "      <th>2015-05-13</th>\n",
       "      <td>242.04</td>\n",
       "      <td>244.13</td>\n",
       "      <td>235.54</td>\n",
       "      <td>236.32</td>\n",
       "      <td>10028.946883</td>\n",
       "      <td>2.424123e+06</td>\n",
       "      <td>241.712609</td>\n",
       "    </tr>\n",
       "    <tr>\n",
       "      <th>2015-05-14</th>\n",
       "      <td>236.93</td>\n",
       "      <td>240.00</td>\n",
       "      <td>232.61</td>\n",
       "      <td>237.46</td>\n",
       "      <td>10365.968041</td>\n",
       "      <td>2.462002e+06</td>\n",
       "      <td>237.508205</td>\n",
       "    </tr>\n",
       "  </tbody>\n",
       "</table>\n",
       "</div>"
      ],
      "text/plain": [
       "              Open    High     Low   Close  Volume (BTC)  Volume (Currency)  \\\n",
       "Date                                                                          \n",
       "2015-02-04  228.77  230.25  221.85  227.11   3344.120783       7.578076e+05   \n",
       "2015-05-11  241.59  245.49  239.50  242.86   6176.481242       1.498052e+06   \n",
       "2015-05-12  242.74  243.40  240.37  242.03   6322.571412       1.531046e+06   \n",
       "2015-05-13  242.04  244.13  235.54  236.32  10028.946883       2.424123e+06   \n",
       "2015-05-14  236.93  240.00  232.61  237.46  10365.968041       2.462002e+06   \n",
       "\n",
       "            Weighted Price  \n",
       "Date                        \n",
       "2015-02-04      226.608934  \n",
       "2015-05-11      242.541273  \n",
       "2015-05-12      242.155569  \n",
       "2015-05-13      241.712609  \n",
       "2015-05-14      237.508205  "
      ]
     },
     "execution_count": 2,
     "metadata": {},
     "output_type": "execute_result"
    }
   ],
   "source": [
    "btcprices = quandl.get('BCHARTS/COINBASEUSD', collapse='daily')\n",
    "btcprices.head()"
   ]
  },
  {
   "cell_type": "markdown",
   "metadata": {},
   "source": [
    "We'll go from 2015-05-11 since that's when we start getting consecutive days. We'll end on 2019-01-07. Now we need to get the S&P500 historical data for the same period."
   ]
  },
  {
   "cell_type": "code",
   "execution_count": 3,
   "metadata": {},
   "outputs": [
    {
     "data": {
      "text/html": [
       "<div>\n",
       "<style scoped>\n",
       "    .dataframe tbody tr th:only-of-type {\n",
       "        vertical-align: middle;\n",
       "    }\n",
       "\n",
       "    .dataframe tbody tr th {\n",
       "        vertical-align: top;\n",
       "    }\n",
       "\n",
       "    .dataframe thead th {\n",
       "        text-align: right;\n",
       "    }\n",
       "</style>\n",
       "<table border=\"1\" class=\"dataframe\">\n",
       "  <thead>\n",
       "    <tr style=\"text-align: right;\">\n",
       "      <th></th>\n",
       "      <th>sp500</th>\n",
       "    </tr>\n",
       "    <tr>\n",
       "      <th>DATE</th>\n",
       "      <th></th>\n",
       "    </tr>\n",
       "  </thead>\n",
       "  <tbody>\n",
       "    <tr>\n",
       "      <th>2015-05-11</th>\n",
       "      <td>2105.33</td>\n",
       "    </tr>\n",
       "    <tr>\n",
       "      <th>2015-05-12</th>\n",
       "      <td>2099.12</td>\n",
       "    </tr>\n",
       "    <tr>\n",
       "      <th>2015-05-13</th>\n",
       "      <td>2098.48</td>\n",
       "    </tr>\n",
       "    <tr>\n",
       "      <th>2015-05-14</th>\n",
       "      <td>2121.10</td>\n",
       "    </tr>\n",
       "    <tr>\n",
       "      <th>2015-05-15</th>\n",
       "      <td>2122.73</td>\n",
       "    </tr>\n",
       "  </tbody>\n",
       "</table>\n",
       "</div>"
      ],
      "text/plain": [
       "              sp500\n",
       "DATE               \n",
       "2015-05-11  2105.33\n",
       "2015-05-12  2099.12\n",
       "2015-05-13  2098.48\n",
       "2015-05-14  2121.10\n",
       "2015-05-15  2122.73"
      ]
     },
     "execution_count": 3,
     "metadata": {},
     "output_type": "execute_result"
    }
   ],
   "source": [
    "start = dt.datetime(2015, 5, 11)\n",
    "end = dt.datetime(2019, 1, 7)\n",
    "sp500 = web.DataReader(['sp500'], 'fred', start, end)\n",
    "sp500.head()"
   ]
  },
  {
   "cell_type": "code",
   "execution_count": null,
   "metadata": {},
   "outputs": [],
   "source": []
  }
 ],
 "metadata": {
  "kernelspec": {
   "display_name": "Python 3",
   "language": "python",
   "name": "python3"
  },
  "language_info": {
   "codemirror_mode": {
    "name": "ipython",
    "version": 3
   },
   "file_extension": ".py",
   "mimetype": "text/x-python",
   "name": "python",
   "nbconvert_exporter": "python",
   "pygments_lexer": "ipython3",
   "version": "3.7.6"
  }
 },
 "nbformat": 4,
 "nbformat_minor": 4
}
