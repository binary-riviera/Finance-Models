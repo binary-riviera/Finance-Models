{
 "cells": [
  {
   "cell_type": "markdown",
   "metadata": {},
   "source": [
    "# Reconstructing historical portfolio information from Coinbase Pro\n",
    "\n",
    "Recently I've started doing some very small scale cryptocurrency trading using [Coinbase Pro](https://pro.coinbase.com/). Currently my method of keeping track of my historical orders is by duplicating the information found on the Orders tab. One thing that Coinbase Pro doesn't do however is keep track of your historical portfolio *value* (like Coinbase non-Pro does) or the historical constituents of the portfolio. In this notebook I'll reconstruct these values from a list of trades and deposits made in my main portfolio. Note that currently I only have 25 actions to analyse, so some analysis won't be worth carrying out. I plan on revisiting this in 6 months time or so, to analyse on a larger timescale. "
   ]
  },
  {
   "cell_type": "markdown",
   "metadata": {},
   "source": [
    "First, the imports:"
   ]
  },
  {
   "cell_type": "code",
   "execution_count": 1,
   "metadata": {},
   "outputs": [],
   "source": [
    "import pandas as pd\n",
    "import matplotlib.pyplot as plt\n",
    "%matplotlib inline\n",
    "plt.style.use('seaborn')"
   ]
  },
  {
   "cell_type": "markdown",
   "metadata": {},
   "source": [
    "Although we could use the [Coinbase Pro API](https://docs.pro.coinbase.com/) to get our order history, I already have the orders saved as a CSV file, which makes loading it a lot easier."
   ]
  },
  {
   "cell_type": "code",
   "execution_count": 2,
   "metadata": {},
   "outputs": [
    {
     "data": {
      "text/html": [
       "<div>\n",
       "<style scoped>\n",
       "    .dataframe tbody tr th:only-of-type {\n",
       "        vertical-align: middle;\n",
       "    }\n",
       "\n",
       "    .dataframe tbody tr th {\n",
       "        vertical-align: top;\n",
       "    }\n",
       "\n",
       "    .dataframe thead th {\n",
       "        text-align: right;\n",
       "    }\n",
       "</style>\n",
       "<table border=\"1\" class=\"dataframe\">\n",
       "  <thead>\n",
       "    <tr style=\"text-align: right;\">\n",
       "      <th></th>\n",
       "      <th>Date</th>\n",
       "      <th>Type</th>\n",
       "      <th>Base</th>\n",
       "      <th>Quote</th>\n",
       "      <th>Amount</th>\n",
       "      <th>Price</th>\n",
       "      <th>Price (ï¿½)</th>\n",
       "      <th>Fees</th>\n",
       "      <th>Total Value</th>\n",
       "      <th>Q/ï¿½</th>\n",
       "      <th>GBP Value</th>\n",
       "    </tr>\n",
       "  </thead>\n",
       "  <tbody>\n",
       "    <tr>\n",
       "      <th>0</th>\n",
       "      <td>13/07/20</td>\n",
       "      <td>DEP</td>\n",
       "      <td>LINK</td>\n",
       "      <td>GBP</td>\n",
       "      <td>100.3234</td>\n",
       "      <td>5.8300</td>\n",
       "      <td>5.8300</td>\n",
       "      <td>0.00000</td>\n",
       "      <td>584.89</td>\n",
       "      <td>1.00</td>\n",
       "      <td>ï¿½584.89</td>\n",
       "    </tr>\n",
       "    <tr>\n",
       "      <th>1</th>\n",
       "      <td>13/07/20</td>\n",
       "      <td>DEP</td>\n",
       "      <td>XTZ</td>\n",
       "      <td>GBP</td>\n",
       "      <td>27.0834</td>\n",
       "      <td>2.2400</td>\n",
       "      <td>2.2400</td>\n",
       "      <td>0.00000</td>\n",
       "      <td>60.67</td>\n",
       "      <td>1.00</td>\n",
       "      <td>ï¿½60.67</td>\n",
       "    </tr>\n",
       "    <tr>\n",
       "      <th>2</th>\n",
       "      <td>13/07/20</td>\n",
       "      <td>DEP</td>\n",
       "      <td>XRP</td>\n",
       "      <td>GBP</td>\n",
       "      <td>124.7508</td>\n",
       "      <td>0.1597</td>\n",
       "      <td>0.1597</td>\n",
       "      <td>0.00000</td>\n",
       "      <td>19.92</td>\n",
       "      <td>1.00</td>\n",
       "      <td>ï¿½19.92</td>\n",
       "    </tr>\n",
       "    <tr>\n",
       "      <th>3</th>\n",
       "      <td>13/07/20</td>\n",
       "      <td>DEP</td>\n",
       "      <td>BTC</td>\n",
       "      <td>GBP</td>\n",
       "      <td>0.0255</td>\n",
       "      <td>7386.7500</td>\n",
       "      <td>7386.7500</td>\n",
       "      <td>0.00000</td>\n",
       "      <td>188.70</td>\n",
       "      <td>1.00</td>\n",
       "      <td>ï¿½188.70</td>\n",
       "    </tr>\n",
       "    <tr>\n",
       "      <th>4</th>\n",
       "      <td>13/07/20</td>\n",
       "      <td>BUY</td>\n",
       "      <td>ETH</td>\n",
       "      <td>BTC</td>\n",
       "      <td>0.3809</td>\n",
       "      <td>0.0261</td>\n",
       "      <td>192.9419</td>\n",
       "      <td>0.00005</td>\n",
       "      <td>0.01</td>\n",
       "      <td>7386.75</td>\n",
       "      <td>ï¿½73.87</td>\n",
       "    </tr>\n",
       "  </tbody>\n",
       "</table>\n",
       "</div>"
      ],
      "text/plain": [
       "       Date Type  Base Quote    Amount      Price  Price (ï¿½)     Fees  \\\n",
       "0  13/07/20  DEP  LINK   GBP  100.3234     5.8300       5.8300  0.00000   \n",
       "1  13/07/20  DEP   XTZ   GBP   27.0834     2.2400       2.2400  0.00000   \n",
       "2  13/07/20  DEP   XRP   GBP  124.7508     0.1597       0.1597  0.00000   \n",
       "3  13/07/20  DEP   BTC   GBP    0.0255  7386.7500    7386.7500  0.00000   \n",
       "4  13/07/20  BUY   ETH   BTC    0.3809     0.0261     192.9419  0.00005   \n",
       "\n",
       "   Total Value    Q/ï¿½  GBP Value  \n",
       "0       584.89     1.00  ï¿½584.89  \n",
       "1        60.67     1.00   ï¿½60.67  \n",
       "2        19.92     1.00   ï¿½19.92  \n",
       "3       188.70     1.00  ï¿½188.70  \n",
       "4         0.01  7386.75   ï¿½73.87  "
      ]
     },
     "execution_count": 2,
     "metadata": {},
     "output_type": "execute_result"
    }
   ],
   "source": [
    "history = pd.read_csv('data/filledorders.csv', engine='python')\n",
    "history.head()"
   ]
  },
  {
   "cell_type": "code",
   "execution_count": 3,
   "metadata": {},
   "outputs": [
    {
     "data": {
      "text/plain": [
       "(24, 11)"
      ]
     },
     "execution_count": 3,
     "metadata": {},
     "output_type": "execute_result"
    }
   ],
   "source": [
    "history.shape"
   ]
  },
  {
   "cell_type": "markdown",
   "metadata": {},
   "source": [
    "First things first we need to clean up the data. The *Date* column should be converted to datetime and the GBP Value column should be a number."
   ]
  },
  {
   "cell_type": "code",
   "execution_count": 4,
   "metadata": {},
   "outputs": [
    {
     "data": {
      "text/html": [
       "<div>\n",
       "<style scoped>\n",
       "    .dataframe tbody tr th:only-of-type {\n",
       "        vertical-align: middle;\n",
       "    }\n",
       "\n",
       "    .dataframe tbody tr th {\n",
       "        vertical-align: top;\n",
       "    }\n",
       "\n",
       "    .dataframe thead th {\n",
       "        text-align: right;\n",
       "    }\n",
       "</style>\n",
       "<table border=\"1\" class=\"dataframe\">\n",
       "  <thead>\n",
       "    <tr style=\"text-align: right;\">\n",
       "      <th></th>\n",
       "      <th>Date</th>\n",
       "      <th>Type</th>\n",
       "      <th>Base</th>\n",
       "      <th>Quote</th>\n",
       "      <th>Amount</th>\n",
       "      <th>Price</th>\n",
       "      <th>Price (ï¿½)</th>\n",
       "      <th>Fees</th>\n",
       "      <th>Total Value</th>\n",
       "      <th>Q/ï¿½</th>\n",
       "      <th>GBP Value</th>\n",
       "    </tr>\n",
       "  </thead>\n",
       "  <tbody>\n",
       "    <tr>\n",
       "      <th>0</th>\n",
       "      <td>2020-07-13</td>\n",
       "      <td>DEP</td>\n",
       "      <td>LINK</td>\n",
       "      <td>GBP</td>\n",
       "      <td>100.3234</td>\n",
       "      <td>5.8300</td>\n",
       "      <td>5.8300</td>\n",
       "      <td>0.00000</td>\n",
       "      <td>584.89</td>\n",
       "      <td>1.00</td>\n",
       "      <td>584.89</td>\n",
       "    </tr>\n",
       "    <tr>\n",
       "      <th>1</th>\n",
       "      <td>2020-07-13</td>\n",
       "      <td>DEP</td>\n",
       "      <td>XTZ</td>\n",
       "      <td>GBP</td>\n",
       "      <td>27.0834</td>\n",
       "      <td>2.2400</td>\n",
       "      <td>2.2400</td>\n",
       "      <td>0.00000</td>\n",
       "      <td>60.67</td>\n",
       "      <td>1.00</td>\n",
       "      <td>60.67</td>\n",
       "    </tr>\n",
       "    <tr>\n",
       "      <th>2</th>\n",
       "      <td>2020-07-13</td>\n",
       "      <td>DEP</td>\n",
       "      <td>XRP</td>\n",
       "      <td>GBP</td>\n",
       "      <td>124.7508</td>\n",
       "      <td>0.1597</td>\n",
       "      <td>0.1597</td>\n",
       "      <td>0.00000</td>\n",
       "      <td>19.92</td>\n",
       "      <td>1.00</td>\n",
       "      <td>19.92</td>\n",
       "    </tr>\n",
       "    <tr>\n",
       "      <th>3</th>\n",
       "      <td>2020-07-13</td>\n",
       "      <td>DEP</td>\n",
       "      <td>BTC</td>\n",
       "      <td>GBP</td>\n",
       "      <td>0.0255</td>\n",
       "      <td>7386.7500</td>\n",
       "      <td>7386.7500</td>\n",
       "      <td>0.00000</td>\n",
       "      <td>188.70</td>\n",
       "      <td>1.00</td>\n",
       "      <td>188.70</td>\n",
       "    </tr>\n",
       "    <tr>\n",
       "      <th>4</th>\n",
       "      <td>2020-07-13</td>\n",
       "      <td>BUY</td>\n",
       "      <td>ETH</td>\n",
       "      <td>BTC</td>\n",
       "      <td>0.3809</td>\n",
       "      <td>0.0261</td>\n",
       "      <td>192.9419</td>\n",
       "      <td>0.00005</td>\n",
       "      <td>0.01</td>\n",
       "      <td>7386.75</td>\n",
       "      <td>73.87</td>\n",
       "    </tr>\n",
       "  </tbody>\n",
       "</table>\n",
       "</div>"
      ],
      "text/plain": [
       "        Date Type  Base Quote    Amount      Price  Price (ï¿½)     Fees  \\\n",
       "0 2020-07-13  DEP  LINK   GBP  100.3234     5.8300       5.8300  0.00000   \n",
       "1 2020-07-13  DEP   XTZ   GBP   27.0834     2.2400       2.2400  0.00000   \n",
       "2 2020-07-13  DEP   XRP   GBP  124.7508     0.1597       0.1597  0.00000   \n",
       "3 2020-07-13  DEP   BTC   GBP    0.0255  7386.7500    7386.7500  0.00000   \n",
       "4 2020-07-13  BUY   ETH   BTC    0.3809     0.0261     192.9419  0.00005   \n",
       "\n",
       "   Total Value    Q/ï¿½  GBP Value  \n",
       "0       584.89     1.00     584.89  \n",
       "1        60.67     1.00      60.67  \n",
       "2        19.92     1.00      19.92  \n",
       "3       188.70     1.00     188.70  \n",
       "4         0.01  7386.75      73.87  "
      ]
     },
     "execution_count": 4,
     "metadata": {},
     "output_type": "execute_result"
    }
   ],
   "source": [
    "history['Date'] = pd.to_datetime(history['Date'], format=\"%d/%m/%y\")\n",
    "history['GBP Value'] = history['GBP Value'].map(lambda x: float(x.strip('ï¿½')))\n",
    "history.head()"
   ]
  },
  {
   "cell_type": "markdown",
   "metadata": {},
   "source": [
    "## Finding Historical Portfolio Constituents\n",
    "\n",
    "Firstly, we are going to work out what coins were in my portfolio after each transaction. Hopefully I'll end up with a DataFrame where each column is representing a different coin. This will make it easy to plot. To do this we need to first create the empty dataframe."
   ]
  },
  {
   "cell_type": "code",
   "execution_count": 5,
   "metadata": {},
   "outputs": [
    {
     "name": "stdout",
     "output_type": "stream",
     "text": [
      "['LINK' 'XTZ' 'XRP' 'BTC' 'ETH' 'ALGO' 'LTC' 'COMP' 'ZRX' 'GBP' 'EUR']\n",
      "<class 'numpy.ndarray'>\n"
     ]
    }
   ],
   "source": [
    "cur = (history['Base'].append(history['Quote'])).unique()\n",
    "print(cur)\n",
    "print(type(cur))"
   ]
  },
  {
   "cell_type": "code",
   "execution_count": 6,
   "metadata": {},
   "outputs": [
    {
     "data": {
      "text/html": [
       "<div>\n",
       "<style scoped>\n",
       "    .dataframe tbody tr th:only-of-type {\n",
       "        vertical-align: middle;\n",
       "    }\n",
       "\n",
       "    .dataframe tbody tr th {\n",
       "        vertical-align: top;\n",
       "    }\n",
       "\n",
       "    .dataframe thead th {\n",
       "        text-align: right;\n",
       "    }\n",
       "</style>\n",
       "<table border=\"1\" class=\"dataframe\">\n",
       "  <thead>\n",
       "    <tr style=\"text-align: right;\">\n",
       "      <th></th>\n",
       "      <th>Date</th>\n",
       "      <th>ALGO</th>\n",
       "      <th>BTC</th>\n",
       "      <th>COMP</th>\n",
       "      <th>ETH</th>\n",
       "      <th>EUR</th>\n",
       "      <th>GBP</th>\n",
       "      <th>LINK</th>\n",
       "      <th>LTC</th>\n",
       "      <th>XRP</th>\n",
       "      <th>XTZ</th>\n",
       "      <th>ZRX</th>\n",
       "    </tr>\n",
       "  </thead>\n",
       "  <tbody>\n",
       "  </tbody>\n",
       "</table>\n",
       "</div>"
      ],
      "text/plain": [
       "Empty DataFrame\n",
       "Columns: [Date, ALGO, BTC, COMP, ETH, EUR, GBP, LINK, LTC, XRP, XTZ, ZRX]\n",
       "Index: []"
      ]
     },
     "execution_count": 6,
     "metadata": {},
     "output_type": "execute_result"
    }
   ],
   "source": [
    "constituents = pd.DataFrame(columns=(['Date'] + sorted(list(cur))))\n",
    "constituents"
   ]
  },
  {
   "cell_type": "markdown",
   "metadata": {},
   "source": [
    "We can safely assume that at `earliest date` - 1, we had no coins whatsoever."
   ]
  },
  {
   "cell_type": "code",
   "execution_count": 12,
   "metadata": {},
   "outputs": [
    {
     "ename": "ValueError",
     "evalue": "Must have equal len keys and value when setting with an iterable",
     "output_type": "error",
     "traceback": [
      "\u001b[1;31m---------------------------------------------------------------------------\u001b[0m",
      "\u001b[1;31mValueError\u001b[0m                                Traceback (most recent call last)",
      "\u001b[1;32m<ipython-input-12-feca0a60c094>\u001b[0m in \u001b[0;36m<module>\u001b[1;34m\u001b[0m\n\u001b[0;32m      1\u001b[0m \u001b[0md\u001b[0m \u001b[1;33m=\u001b[0m \u001b[0mhistory\u001b[0m\u001b[1;33m[\u001b[0m\u001b[1;34m'Date'\u001b[0m\u001b[1;33m]\u001b[0m\u001b[1;33m.\u001b[0m\u001b[0mmin\u001b[0m\u001b[1;33m(\u001b[0m\u001b[1;33m)\u001b[0m \u001b[1;33m+\u001b[0m \u001b[0mpd\u001b[0m\u001b[1;33m.\u001b[0m\u001b[0mDateOffset\u001b[0m\u001b[1;33m(\u001b[0m\u001b[0mdays\u001b[0m\u001b[1;33m=\u001b[0m\u001b[1;33m-\u001b[0m\u001b[1;36m1\u001b[0m\u001b[1;33m)\u001b[0m \u001b[1;31m# earliest date - 1\u001b[0m\u001b[1;33m\u001b[0m\u001b[1;33m\u001b[0m\u001b[0m\n\u001b[1;32m----> 2\u001b[1;33m \u001b[0mconstituents\u001b[0m\u001b[1;33m.\u001b[0m\u001b[0mloc\u001b[0m\u001b[1;33m[\u001b[0m\u001b[1;36m0\u001b[0m\u001b[1;33m]\u001b[0m \u001b[1;33m=\u001b[0m \u001b[1;33m[\u001b[0m\u001b[0md\u001b[0m\u001b[1;33m,\u001b[0m \u001b[1;36m0\u001b[0m\u001b[1;33m,\u001b[0m \u001b[1;36m0\u001b[0m\u001b[1;33m,\u001b[0m \u001b[1;36m0\u001b[0m\u001b[1;33m,\u001b[0m \u001b[1;36m0\u001b[0m\u001b[1;33m,\u001b[0m \u001b[1;36m0\u001b[0m\u001b[1;33m,\u001b[0m \u001b[1;36m0\u001b[0m \u001b[1;33m,\u001b[0m \u001b[1;36m0\u001b[0m\u001b[1;33m,\u001b[0m \u001b[1;36m0\u001b[0m\u001b[1;33m,\u001b[0m \u001b[1;36m0\u001b[0m\u001b[1;33m,\u001b[0m \u001b[1;36m0\u001b[0m\u001b[1;33m,\u001b[0m \u001b[1;36m0\u001b[0m\u001b[1;33m]\u001b[0m\u001b[1;33m\u001b[0m\u001b[1;33m\u001b[0m\u001b[0m\n\u001b[0m\u001b[0;32m      3\u001b[0m \u001b[0mconstituents\u001b[0m\u001b[1;33m\u001b[0m\u001b[1;33m\u001b[0m\u001b[0m\n",
      "\u001b[1;32m~\\anaconda3\\lib\\site-packages\\pandas\\core\\indexing.py\u001b[0m in \u001b[0;36m__setitem__\u001b[1;34m(self, key, value)\u001b[0m\n\u001b[0;32m    668\u001b[0m             \u001b[0mkey\u001b[0m \u001b[1;33m=\u001b[0m \u001b[0mcom\u001b[0m\u001b[1;33m.\u001b[0m\u001b[0mapply_if_callable\u001b[0m\u001b[1;33m(\u001b[0m\u001b[0mkey\u001b[0m\u001b[1;33m,\u001b[0m \u001b[0mself\u001b[0m\u001b[1;33m.\u001b[0m\u001b[0mobj\u001b[0m\u001b[1;33m)\u001b[0m\u001b[1;33m\u001b[0m\u001b[1;33m\u001b[0m\u001b[0m\n\u001b[0;32m    669\u001b[0m         \u001b[0mindexer\u001b[0m \u001b[1;33m=\u001b[0m \u001b[0mself\u001b[0m\u001b[1;33m.\u001b[0m\u001b[0m_get_setitem_indexer\u001b[0m\u001b[1;33m(\u001b[0m\u001b[0mkey\u001b[0m\u001b[1;33m)\u001b[0m\u001b[1;33m\u001b[0m\u001b[1;33m\u001b[0m\u001b[0m\n\u001b[1;32m--> 670\u001b[1;33m         \u001b[0mself\u001b[0m\u001b[1;33m.\u001b[0m\u001b[0m_setitem_with_indexer\u001b[0m\u001b[1;33m(\u001b[0m\u001b[0mindexer\u001b[0m\u001b[1;33m,\u001b[0m \u001b[0mvalue\u001b[0m\u001b[1;33m)\u001b[0m\u001b[1;33m\u001b[0m\u001b[1;33m\u001b[0m\u001b[0m\n\u001b[0m\u001b[0;32m    671\u001b[0m \u001b[1;33m\u001b[0m\u001b[0m\n\u001b[0;32m    672\u001b[0m     \u001b[1;32mdef\u001b[0m \u001b[0m_validate_key\u001b[0m\u001b[1;33m(\u001b[0m\u001b[0mself\u001b[0m\u001b[1;33m,\u001b[0m \u001b[0mkey\u001b[0m\u001b[1;33m,\u001b[0m \u001b[0maxis\u001b[0m\u001b[1;33m:\u001b[0m \u001b[0mint\u001b[0m\u001b[1;33m)\u001b[0m\u001b[1;33m:\u001b[0m\u001b[1;33m\u001b[0m\u001b[1;33m\u001b[0m\u001b[0m\n",
      "\u001b[1;32m~\\anaconda3\\lib\\site-packages\\pandas\\core\\indexing.py\u001b[0m in \u001b[0;36m_setitem_with_indexer\u001b[1;34m(self, indexer, value)\u001b[0m\n\u001b[0;32m   1016\u001b[0m                     \u001b[1;32mif\u001b[0m \u001b[0mlen\u001b[0m\u001b[1;33m(\u001b[0m\u001b[0mlabels\u001b[0m\u001b[1;33m)\u001b[0m \u001b[1;33m!=\u001b[0m \u001b[0mlen\u001b[0m\u001b[1;33m(\u001b[0m\u001b[0mvalue\u001b[0m\u001b[1;33m)\u001b[0m\u001b[1;33m:\u001b[0m\u001b[1;33m\u001b[0m\u001b[1;33m\u001b[0m\u001b[0m\n\u001b[0;32m   1017\u001b[0m                         raise ValueError(\n\u001b[1;32m-> 1018\u001b[1;33m                             \u001b[1;34m\"Must have equal len keys and value \"\u001b[0m\u001b[1;33m\u001b[0m\u001b[1;33m\u001b[0m\u001b[0m\n\u001b[0m\u001b[0;32m   1019\u001b[0m                             \u001b[1;34m\"when setting with an iterable\"\u001b[0m\u001b[1;33m\u001b[0m\u001b[1;33m\u001b[0m\u001b[0m\n\u001b[0;32m   1020\u001b[0m                         )\n",
      "\u001b[1;31mValueError\u001b[0m: Must have equal len keys and value when setting with an iterable"
     ]
    }
   ],
   "source": [
    "d = history['Date'].min() + pd.DateOffset(days=-1) # earliest date - 1\n",
    "constituents.loc[0] = [d, 0, 0, 0, 0, 0, 0 , 0, 0, 0, 0, 0]\n",
    "constituents"
   ]
  },
  {
   "cell_type": "code",
   "execution_count": null,
   "metadata": {},
   "outputs": [],
   "source": []
  }
 ],
 "metadata": {
  "kernelspec": {
   "display_name": "Python 3",
   "language": "python",
   "name": "python3"
  },
  "language_info": {
   "codemirror_mode": {
    "name": "ipython",
    "version": 3
   },
   "file_extension": ".py",
   "mimetype": "text/x-python",
   "name": "python",
   "nbconvert_exporter": "python",
   "pygments_lexer": "ipython3",
   "version": "3.7.6"
  }
 },
 "nbformat": 4,
 "nbformat_minor": 4
}
