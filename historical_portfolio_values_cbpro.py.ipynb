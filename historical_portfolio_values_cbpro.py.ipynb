{
 "cells": [
  {
   "cell_type": "markdown",
   "metadata": {},
   "source": [
    "# Reconstructing historical portfolio information from Coinbase Pro\n",
    "\n",
    "Recently I've started doing some very small scale cryptocurrency trading using [Coinbase Pro](https://pro.coinbase.com/). Currently my method of keeping track of my historical orders is by duplicating the information found on the Orders tab. One thing that Coinbase Pro doesn't do however is keep track of your historical portfolio *value* (like Coinbase non-Pro does) or the historical constituents of the portfolio. In this notebook I'll reconstruct these values from a list of trades and deposits made in my main portfolio. Note that currently I only have 25 actions to analyse, so some analysis won't be worth carrying out. I plan on revisiting this in 6 months time or so, to analyse on a larger timescale. "
   ]
  },
  {
   "cell_type": "markdown",
   "metadata": {},
   "source": [
    "First, the imports:"
   ]
  },
  {
   "cell_type": "code",
   "execution_count": 1,
   "metadata": {},
   "outputs": [],
   "source": [
    "import pandas as pd\n",
    "import matplotlib.pyplot as plt\n",
    "%matplotlib inline\n",
    "plt.style.use('seaborn')"
   ]
  },
  {
   "cell_type": "markdown",
   "metadata": {},
   "source": [
    "Although we could use the [Coinbase Pro API](https://docs.pro.coinbase.com/) to get our order history, I already have the orders saved as a CSV file, which makes loading it a lot easier."
   ]
  },
  {
   "cell_type": "code",
   "execution_count": 2,
   "metadata": {},
   "outputs": [
    {
     "data": {
      "text/html": [
       "<div>\n",
       "<style scoped>\n",
       "    .dataframe tbody tr th:only-of-type {\n",
       "        vertical-align: middle;\n",
       "    }\n",
       "\n",
       "    .dataframe tbody tr th {\n",
       "        vertical-align: top;\n",
       "    }\n",
       "\n",
       "    .dataframe thead th {\n",
       "        text-align: right;\n",
       "    }\n",
       "</style>\n",
       "<table border=\"1\" class=\"dataframe\">\n",
       "  <thead>\n",
       "    <tr style=\"text-align: right;\">\n",
       "      <th></th>\n",
       "      <th>Date</th>\n",
       "      <th>Type</th>\n",
       "      <th>Base</th>\n",
       "      <th>Quote</th>\n",
       "      <th>Amount</th>\n",
       "      <th>Price</th>\n",
       "      <th>Price (£)</th>\n",
       "      <th>Fees</th>\n",
       "      <th>Total Value</th>\n",
       "      <th>Q/£</th>\n",
       "      <th>GBP Value</th>\n",
       "    </tr>\n",
       "  </thead>\n",
       "  <tbody>\n",
       "    <tr>\n",
       "      <th>0</th>\n",
       "      <td>13/07/20</td>\n",
       "      <td>BUY</td>\n",
       "      <td>ETH</td>\n",
       "      <td>BTC</td>\n",
       "      <td>0.3809</td>\n",
       "      <td>0.0261</td>\n",
       "      <td>192.9419</td>\n",
       "      <td>0.00005</td>\n",
       "      <td>0.01</td>\n",
       "      <td>7386.75</td>\n",
       "      <td>£73.87</td>\n",
       "    </tr>\n",
       "    <tr>\n",
       "      <th>1</th>\n",
       "      <td>13/07/20</td>\n",
       "      <td>DEP</td>\n",
       "      <td>LINK</td>\n",
       "      <td>GBP</td>\n",
       "      <td>100.3234</td>\n",
       "      <td>5.8300</td>\n",
       "      <td>5.8300</td>\n",
       "      <td>0.00000</td>\n",
       "      <td>584.89</td>\n",
       "      <td>1.00</td>\n",
       "      <td>£584.89</td>\n",
       "    </tr>\n",
       "    <tr>\n",
       "      <th>2</th>\n",
       "      <td>13/07/20</td>\n",
       "      <td>DEP</td>\n",
       "      <td>XTZ</td>\n",
       "      <td>GBP</td>\n",
       "      <td>27.0834</td>\n",
       "      <td>2.2400</td>\n",
       "      <td>2.2400</td>\n",
       "      <td>0.00000</td>\n",
       "      <td>60.67</td>\n",
       "      <td>1.00</td>\n",
       "      <td>£60.67</td>\n",
       "    </tr>\n",
       "    <tr>\n",
       "      <th>3</th>\n",
       "      <td>13/07/20</td>\n",
       "      <td>DEP</td>\n",
       "      <td>XRP</td>\n",
       "      <td>GBP</td>\n",
       "      <td>124.7508</td>\n",
       "      <td>0.1597</td>\n",
       "      <td>0.1597</td>\n",
       "      <td>0.00000</td>\n",
       "      <td>19.92</td>\n",
       "      <td>1.00</td>\n",
       "      <td>£19.92</td>\n",
       "    </tr>\n",
       "    <tr>\n",
       "      <th>4</th>\n",
       "      <td>13/07/20</td>\n",
       "      <td>DEP</td>\n",
       "      <td>BTC</td>\n",
       "      <td>GBP</td>\n",
       "      <td>0.0255</td>\n",
       "      <td>7386.7500</td>\n",
       "      <td>7386.7500</td>\n",
       "      <td>0.00000</td>\n",
       "      <td>188.70</td>\n",
       "      <td>1.00</td>\n",
       "      <td>£188.70</td>\n",
       "    </tr>\n",
       "  </tbody>\n",
       "</table>\n",
       "</div>"
      ],
      "text/plain": [
       "       Date Type  Base Quote    Amount      Price  Price (£)     Fees  \\\n",
       "0  13/07/20  BUY   ETH   BTC    0.3809     0.0261   192.9419  0.00005   \n",
       "1  13/07/20  DEP  LINK   GBP  100.3234     5.8300     5.8300  0.00000   \n",
       "2  13/07/20  DEP   XTZ   GBP   27.0834     2.2400     2.2400  0.00000   \n",
       "3  13/07/20  DEP   XRP   GBP  124.7508     0.1597     0.1597  0.00000   \n",
       "4  13/07/20  DEP   BTC   GBP    0.0255  7386.7500  7386.7500  0.00000   \n",
       "\n",
       "   Total Value      Q/£ GBP Value  \n",
       "0         0.01  7386.75    £73.87  \n",
       "1       584.89     1.00   £584.89  \n",
       "2        60.67     1.00    £60.67  \n",
       "3        19.92     1.00    £19.92  \n",
       "4       188.70     1.00   £188.70  "
      ]
     },
     "execution_count": 2,
     "metadata": {},
     "output_type": "execute_result"
    }
   ],
   "source": [
    "history = pd.read_csv('data/filledorders.csv', encoding='ISO-8859-1') # custom encoding needed as its not utf-8\n",
    "history.head()"
   ]
  },
  {
   "cell_type": "code",
   "execution_count": 3,
   "metadata": {},
   "outputs": [
    {
     "data": {
      "text/plain": [
       "(24, 11)"
      ]
     },
     "execution_count": 3,
     "metadata": {},
     "output_type": "execute_result"
    }
   ],
   "source": [
    "history.shape"
   ]
  },
  {
   "cell_type": "markdown",
   "metadata": {},
   "source": [
    "First things first we need to clean up the data. The *Date* column should be converted to datetime and the GBP Value column should be a number."
   ]
  },
  {
   "cell_type": "code",
   "execution_count": 4,
   "metadata": {},
   "outputs": [
    {
     "data": {
      "text/html": [
       "<div>\n",
       "<style scoped>\n",
       "    .dataframe tbody tr th:only-of-type {\n",
       "        vertical-align: middle;\n",
       "    }\n",
       "\n",
       "    .dataframe tbody tr th {\n",
       "        vertical-align: top;\n",
       "    }\n",
       "\n",
       "    .dataframe thead th {\n",
       "        text-align: right;\n",
       "    }\n",
       "</style>\n",
       "<table border=\"1\" class=\"dataframe\">\n",
       "  <thead>\n",
       "    <tr style=\"text-align: right;\">\n",
       "      <th></th>\n",
       "      <th>Date</th>\n",
       "      <th>Type</th>\n",
       "      <th>Base</th>\n",
       "      <th>Quote</th>\n",
       "      <th>Amount</th>\n",
       "      <th>Price</th>\n",
       "      <th>Price (£)</th>\n",
       "      <th>Fees</th>\n",
       "      <th>Total Value</th>\n",
       "      <th>Q/£</th>\n",
       "      <th>GBP Value</th>\n",
       "    </tr>\n",
       "  </thead>\n",
       "  <tbody>\n",
       "    <tr>\n",
       "      <th>0</th>\n",
       "      <td>2020-07-13</td>\n",
       "      <td>BUY</td>\n",
       "      <td>ETH</td>\n",
       "      <td>BTC</td>\n",
       "      <td>0.3809</td>\n",
       "      <td>0.0261</td>\n",
       "      <td>192.9419</td>\n",
       "      <td>0.00005</td>\n",
       "      <td>0.01</td>\n",
       "      <td>7386.75</td>\n",
       "      <td>73.87</td>\n",
       "    </tr>\n",
       "    <tr>\n",
       "      <th>1</th>\n",
       "      <td>2020-07-13</td>\n",
       "      <td>DEP</td>\n",
       "      <td>LINK</td>\n",
       "      <td>GBP</td>\n",
       "      <td>100.3234</td>\n",
       "      <td>5.8300</td>\n",
       "      <td>5.8300</td>\n",
       "      <td>0.00000</td>\n",
       "      <td>584.89</td>\n",
       "      <td>1.00</td>\n",
       "      <td>584.89</td>\n",
       "    </tr>\n",
       "    <tr>\n",
       "      <th>2</th>\n",
       "      <td>2020-07-13</td>\n",
       "      <td>DEP</td>\n",
       "      <td>XTZ</td>\n",
       "      <td>GBP</td>\n",
       "      <td>27.0834</td>\n",
       "      <td>2.2400</td>\n",
       "      <td>2.2400</td>\n",
       "      <td>0.00000</td>\n",
       "      <td>60.67</td>\n",
       "      <td>1.00</td>\n",
       "      <td>60.67</td>\n",
       "    </tr>\n",
       "    <tr>\n",
       "      <th>3</th>\n",
       "      <td>2020-07-13</td>\n",
       "      <td>DEP</td>\n",
       "      <td>XRP</td>\n",
       "      <td>GBP</td>\n",
       "      <td>124.7508</td>\n",
       "      <td>0.1597</td>\n",
       "      <td>0.1597</td>\n",
       "      <td>0.00000</td>\n",
       "      <td>19.92</td>\n",
       "      <td>1.00</td>\n",
       "      <td>19.92</td>\n",
       "    </tr>\n",
       "    <tr>\n",
       "      <th>4</th>\n",
       "      <td>2020-07-13</td>\n",
       "      <td>DEP</td>\n",
       "      <td>BTC</td>\n",
       "      <td>GBP</td>\n",
       "      <td>0.0255</td>\n",
       "      <td>7386.7500</td>\n",
       "      <td>7386.7500</td>\n",
       "      <td>0.00000</td>\n",
       "      <td>188.70</td>\n",
       "      <td>1.00</td>\n",
       "      <td>188.70</td>\n",
       "    </tr>\n",
       "  </tbody>\n",
       "</table>\n",
       "</div>"
      ],
      "text/plain": [
       "        Date Type  Base Quote    Amount      Price  Price (£)     Fees  \\\n",
       "0 2020-07-13  BUY   ETH   BTC    0.3809     0.0261   192.9419  0.00005   \n",
       "1 2020-07-13  DEP  LINK   GBP  100.3234     5.8300     5.8300  0.00000   \n",
       "2 2020-07-13  DEP   XTZ   GBP   27.0834     2.2400     2.2400  0.00000   \n",
       "3 2020-07-13  DEP   XRP   GBP  124.7508     0.1597     0.1597  0.00000   \n",
       "4 2020-07-13  DEP   BTC   GBP    0.0255  7386.7500  7386.7500  0.00000   \n",
       "\n",
       "   Total Value      Q/£  GBP Value  \n",
       "0         0.01  7386.75      73.87  \n",
       "1       584.89     1.00     584.89  \n",
       "2        60.67     1.00      60.67  \n",
       "3        19.92     1.00      19.92  \n",
       "4       188.70     1.00     188.70  "
      ]
     },
     "execution_count": 4,
     "metadata": {},
     "output_type": "execute_result"
    }
   ],
   "source": [
    "history['Date'] = pd.to_datetime(history['Date'])\n",
    "history['GBP Value'] = history['GBP Value'].map(lambda x: float(x.strip('£')))\n",
    "history.head()"
   ]
  },
  {
   "cell_type": "code",
   "execution_count": null,
   "metadata": {},
   "outputs": [],
   "source": []
  }
 ],
 "metadata": {
  "kernelspec": {
   "display_name": "Python 3",
   "language": "python",
   "name": "python3"
  },
  "language_info": {
   "codemirror_mode": {
    "name": "ipython",
    "version": 3
   },
   "file_extension": ".py",
   "mimetype": "text/x-python",
   "name": "python",
   "nbconvert_exporter": "python",
   "pygments_lexer": "ipython3",
   "version": "3.7.6"
  }
 },
 "nbformat": 4,
 "nbformat_minor": 4
}
